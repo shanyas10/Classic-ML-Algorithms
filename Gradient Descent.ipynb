{
 "cells": [
  {
   "cell_type": "markdown",
   "metadata": {},
   "source": [
    "# Gradient Descent from scratch"
   ]
  },
  {
   "cell_type": "markdown",
   "metadata": {},
   "source": [
    "Optimization allows us to select the best parameters, associated with the machine learning algorithm or method we are using, for our problem case. Of several types of optimization algorithms present out there, Gradient Descent optimization algorithm is perhaps the most popular algorithm of all."
   ]
  },
  {
   "cell_type": "markdown",
   "metadata": {},
   "source": [
    "A simple gradient Descent Algorithm is as follows:\n",
    "\n",
    "1. Obtain a function to minimize F(x). In our case, we'll use the function\n",
    "            Y = 2x^4 - 2x^3 + 5x^2\n",
    "            \n",
    "2. Initialize a value x from which to start the descent or optimization from\n",
    "\n",
    "3. Specify a learning rate that will determine how much of a step to descend by or how quickly you converge to the minimum     value. The learning rate here will be denoted as alpha.\n",
    "\n",
    "4. Obtain the derivative of that value x (the descent)\n",
    "\n",
    "5. Proceed to descend by the derivative of that value multiplied by the learning rate\n",
    "\n",
    "6. Update the value of x with the new value descended to\n",
    "\n",
    "7. Check your stop condition to see whether to stop. Here algorithm will stop if number of iterations has reached 600 or the difference between the value of x in two iterations is less than 0.000001.\n",
    "\n",
    "8. If condition satisfied, stop. If not, proceed to step 4 with the new x value and keep repeating algorithm"
   ]
  },
  {
   "cell_type": "code",
   "execution_count": 8,
   "metadata": {},
   "outputs": [],
   "source": [
    "from matplotlib import pyplot as plt"
   ]
  },
  {
   "cell_type": "markdown",
   "metadata": {},
   "source": [
    "Initialize the parameters"
   ]
  },
  {
   "cell_type": "code",
   "execution_count": 9,
   "metadata": {},
   "outputs": [],
   "source": [
    "init_x = 3      # Let us consider that algorithm starts with initial value of x at 3\n",
    "alpha = 0.01    # Learning Rate\n",
    "epochs = 1500     # Number of times to train the algorithm \n",
    "\n",
    "# To make sure that the difference in the graddient between two iterations is considerable, we define a variable precision\n",
    "\n",
    "precision = 0.000001 # This tells us when to stop the algorithm\n",
    "previous_step_size = 1\n"
   ]
  },
  {
   "cell_type": "markdown",
   "metadata": {},
   "source": [
    "Define the equation with x"
   ]
  },
  {
   "cell_type": "code",
   "execution_count": 10,
   "metadata": {},
   "outputs": [],
   "source": [
    "def derivative(x): \n",
    "    return 8 * x**3 - 6 * x**2 + 10 * x # This is the derivative of the function we defined earlier"
   ]
  },
  {
   "cell_type": "markdown",
   "metadata": {},
   "source": [
    "Apply gradient descent (change the value of x)"
   ]
  },
  {
   "cell_type": "code",
   "execution_count": 11,
   "metadata": {},
   "outputs": [
    {
     "name": "stdout",
     "output_type": "stream",
     "text": [
      "0 :  3\n",
      "1 :  1.08\n",
      "2 :  0.9412070400000001\n",
      "3 :  0.8335355589705677\n",
      "4 :  0.7455388860087416\n",
      "5 :  0.6711833664555513\n",
      "6 :  0.6069055000160948\n",
      "7 :  0.5504314788524783\n",
      "8 :  0.5002254697958497\n",
      "9 :  0.45520291976515004\n",
      "10 :  0.41456941290981214\n",
      "11 :  0.37772444893286444\n",
      "12 :  0.34420117979360876\n",
      "13 :  0.31362720524750526\n",
      "14 :  0.2856982856230953\n",
      "15 :  0.2601602919260565\n",
      "16 :  0.23679658320334157\n",
      "17 :  0.21541905777141676\n",
      "18 :  0.1958617461270934\n",
      "19 :  0.17797619182981145\n",
      "20 :  0.16162810499524638\n",
      "21 :  0.14669492794496578\n",
      "22 :  0.1330640562948434\n",
      "23 :  0.12063153021698997\n",
      "24 :  0.10930106108534478\n",
      "25 :  0.0989832951431848\n",
      "26 :  0.08959524255911297\n",
      "27 :  0.08105982006762774\n",
      "28 :  0.07330547018197545\n",
      "29 :  0.06626583100004287\n",
      "30 :  0.0598794388103113\n",
      "31 :  0.05408945171651851\n",
      "32 :  0.048843386846438866\n",
      "33 :  0.04409286678673823\n",
      "34 :  0.039793373001392955\n",
      "35 :  0.03590400538894727\n",
      "36 :  0.032387248004848004\n",
      "37 :  0.029208741467946803\n",
      "38 :  0.02633706279946699\n",
      "39 :  0.023743513495067654\n",
      "40 :  0.021401916570667118\n",
      "41 :  0.019288423197384358\n",
      "42 :  0.017381329383570107\n",
      "43 :  0.015660902995158106\n",
      "44 :  0.014109221244289802\n",
      "45 :  0.012710018629354093\n",
      "46 :  0.011448545182069043\n",
      "47 :  0.01031143477094874\n",
      "48 :  0.009286583125445091\n",
      "49 :  0.00836303518000985\n",
      "50 :  0.007530881290360621\n",
      "51 :  0.006781161843088776\n",
      "52 :  0.006105779762056135\n",
      "53 :  0.005497420408496177\n",
      "54 :  0.004949478374234477\n",
      "55 :  0.0044559906770588\n",
      "56 :  0.0040115758823281245\n",
      "57 :  0.003611378693978739\n",
      "58 :  0.003251019579960871\n",
      "59 :  0.002926549020827895\n",
      "60 :  0.0026344059948967677\n",
      "61 :  0.002371380338461629\n",
      "62 :  0.0021345786444719474\n",
      "63 :  0.0019213933875001498\n",
      "64 :  0.0017294749864383916\n",
      "65 :  0.001556706538977916\n",
      "66 :  0.001401180983401288\n",
      "67 :  0.0012611804634740506\n",
      "68 :  0.001135157691216046\n",
      "69 :  0.001021719120053886\n",
      "70 :  0.0009196097573194932\n",
      "71 :  0.000827699460298088\n",
      "72 :  0.0007449705740884226\n",
      "73 :  0.0006705067824733853\n",
      "74 :  0.0006034830548710873\n",
      "75 :  0.0005431565833091433\n",
      "76 :  0.0004888586133033443\n",
      "77 :  0.0004399870815913361\n",
      "78 :  0.00039599998193600073\n",
      "79 :  0.00035640938773361206\n",
      "80 :  0.0003207760669974429\n",
      "81 :  0.0002887046314942492\n",
      "82 :  0.00025983916744158815\n",
      "83 :  0.00023385930027753328\n",
      "84 :  0.00021047665063693508\n",
      "85 :  0.00018943164285253306\n",
      "86 :  0.0001704906310843081\n",
      "87 :  0.0001534433116027417\n",
      "88 :  0.0001381003928444361\n",
      "89 :  0.00012429149765239776\n",
      "90 :  0.00011186327463613315\n",
      "91 :  0.00010067769786406945\n",
      "92 :  9.061053615595582e-05\n",
      "93 :  8.154997509700103e-05\n",
      "94 :  7.339537656782004e-05\n",
      "95 :  6.605616209228635e-05\n",
      "96 :  5.9450807664992295e-05\n",
      "97 :  5.350593894559516e-05\n",
      "98 :  4.815551681191128e-05\n",
      "99 :  4.334010425901448e-05\n",
      "100 :  3.900620652847858e-05\n",
      "101 :  3.51056771599318e-05\n",
      "102 :  3.159518338499159e-05\n",
      "103 :  2.8435724939306015e-05\n",
      "104 :  2.5592200958963156e-05\n",
      "105 :  2.3033020159370885e-05\n",
      "106 :  2.0729749973657298e-05\n",
      "107 :  1.8656800758930964e-05\n",
      "108 :  1.6791141567091223e-05\n",
      "109 :  1.5112044326549477e-05\n",
      "110 :  1.3600853596051458e-05\n",
      "111 :  1.224077933523815e-05\n",
      "112 :  1.101671039176833e-05\n",
      "113 :  9.915046634559003e-06\n"
     ]
    }
   ],
   "source": [
    "gradient_values=[]\n",
    "iterations=[]\n",
    "current_x = init_x\n",
    "for i in range(epochs):\n",
    "    if previous_step_size > precision:\n",
    "        previous_x = current_x\n",
    "        current_x += -alpha * derivative(previous_x)\n",
    "        print(i, \": \", previous_x)\n",
    "        previous_step_size = abs(current_x - previous_x)\n",
    "        gradient_values.append(previous_x)\n",
    "        iterations.append(i)"
   ]
  },
  {
   "cell_type": "code",
   "execution_count": 12,
   "metadata": {},
   "outputs": [
    {
     "data": {
      "text/plain": [
       "[<matplotlib.lines.Line2D at 0x18f17be28d0>]"
      ]
     },
     "execution_count": 12,
     "metadata": {},
     "output_type": "execute_result"
    },
    {
     "data": {
      "image/png": "[encoded data removed]",
      "text/plain": [
       "<Figure size 432x288 with 1 Axes>"
      ]
     },
     "metadata": {},
     "output_type": "display_data"
    }
   ],
   "source": [
    "plt.plot(iterations, gradient_values)"
   ]
  },
  {
   "cell_type": "markdown",
   "metadata": {},
   "source": [
    "You can try different values for learning rate to see the effect on descent"
   ]
  },
  {
   "cell_type": "code",
   "execution_count": null,
   "metadata": {},
   "outputs": [],
   "source": []
  }
 ],
 "metadata": {
  "kernelspec": {
   "display_name": "Python 3",
   "language": "python",
   "name": "python3"
  },
  "language_info": {
   "codemirror_mode": {
    "name": "ipython",
    "version": 3
   },
   "file_extension": ".py",
   "mimetype": "text/x-python",
   "name": "python",
   "nbconvert_exporter": "python",
   "pygments_lexer": "ipython3",
   "version": "3.6.5"
  }
 },
 "nbformat": 4,
 "nbformat_minor": 2
}
